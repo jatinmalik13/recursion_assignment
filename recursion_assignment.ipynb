{
 "cells": [
  {
   "cell_type": "code",
   "execution_count": 3,
   "id": "89f72054-fdc6-49a0-8bd4-408765ca8ad0",
   "metadata": {},
   "outputs": [
    {
     "name": "stdout",
     "output_type": "stream",
     "text": [
      "3\n",
      "5\n"
     ]
    }
   ],
   "source": [
    "'''Q.2 Given two strings word1 and word2, return the minimum number of operations required to convert word1\n",
    "to word2.\n",
    "Example 1:\n",
    "Input: word1 = \"horse\", word2 = \"ros\"\n",
    "Output: 3\n",
    "Explanation:\n",
    "horse -> rorse (replace 'h' with 'r')\n",
    "rorse -> rose (remove 'r')\n",
    "rose -> ros (remove 'e')\n",
    "Example 2:\n",
    "Input: word1 = \"intention\", word2 = \"execution\"\n",
    "Output: 5\n",
    "Explanation:\n",
    "intention -> inention (remove 't')\n",
    "inention -> enention (replace 'i' with 'e')\n",
    "enention -> exention (replace 'n' with 'x')\n",
    "exention -> exection (replace 'n' with 'c')\n",
    "exection -> execution (insert 'u')'''\n",
    "\n",
    "# ans\n",
    "\n",
    "def minDistance(word1, word2):\n",
    "    m, n = len(word1), len(word2)\n",
    "    \n",
    "   \n",
    "    dp = [[0] * (n + 1) for _ in range(m + 1)]\n",
    "    \n",
    "   \n",
    "    for i in range(1, m + 1):\n",
    "        dp[i][0] = i \n",
    "    for j in range(1, n + 1):\n",
    "        dp[0][j] = j  \n",
    "    \n",
    "   \n",
    "    for i in range(1, m + 1):\n",
    "        for j in range(1, n + 1):\n",
    "            if word1[i - 1] == word2[j - 1]:\n",
    "                dp[i][j] = dp[i - 1][j - 1] \n",
    "            else:\n",
    "                dp[i][j] = min(dp[i - 1][j],                                    dp[i][j - 1],     \n",
    "                               dp[i - 1][j - 1]  \n",
    "                              ) + 1\n",
    "    \n",
    "    return dp[m][n]\n",
    "\n",
    "\n",
    "word1 = \"horse\"\n",
    "word2 = \"ros\"\n",
    "output = minDistance(word1, word2)\n",
    "print(output) \n",
    "\n",
    "\n",
    "# example 2\n",
    "\n",
    "def minDistance(word1, word2):\n",
    "    m, n = len(word1), len(word2)\n",
    "    \n",
    "  \n",
    "    dp = [[0] * (n + 1) for _ in range(m + 1)]\n",
    "    \n",
    "  \n",
    "    for i in range(1, m + 1):\n",
    "        dp[i][0] = i  \n",
    "    for j in range(1, n + 1):\n",
    "        dp[0][j] = j  \n",
    "    \n",
    "    # Fill the DP table\n",
    "    for i in range(1, m + 1):\n",
    "        for j in range(1, n + 1):\n",
    "            if word1[i - 1] == word2[j - 1]:\n",
    "                dp[i][j] = dp[i - 1][j - 1]  \n",
    "            else:\n",
    "                dp[i][j] = min(dp[i - 1][j],     \n",
    "                               dp[i][j - 1],     \n",
    "                               dp[i - 1][j - 1]  \n",
    "                              ) + 1\n",
    "    \n",
    "    return dp[m][n]\n",
    "\n",
    "\n",
    "word1 = \"intention\"\n",
    "word2 = \"execution\"\n",
    "output = minDistance(word1, word2)\n",
    "print(output) \n"
   ]
  },
  {
   "cell_type": "code",
   "execution_count": 6,
   "id": "8daa61dd-03ea-48b9-a146-4648c9a9d80c",
   "metadata": {},
   "outputs": [
    {
     "name": "stdout",
     "output_type": "stream",
     "text": [
      "The maximum value in the array is: 22\n"
     ]
    }
   ],
   "source": [
    "'''\n",
    "\n",
    "Q. 3 Print the max value of the array [ 13, 1, -3, 22, 5].\n",
    "\n",
    "\n",
    "arr = [13, 1, -3, 22, 5]'''\n",
    "\n",
    "\n",
    "max_value = max(arr)\n",
    "\n",
    "\n",
    "print(\"The maximum value in the array is:\", max_value)\n"
   ]
  },
  {
   "cell_type": "code",
   "execution_count": 7,
   "id": "a19578b0-1c85-4347-b413-257c74a579b6",
   "metadata": {},
   "outputs": [
    {
     "name": "stdout",
     "output_type": "stream",
     "text": [
      "The sum of the array values is: 120\n"
     ]
    }
   ],
   "source": [
    "'''Q.4 Find the sum of the values of the array [92, 23, 15, -20, 10].'''\n",
    "\n",
    "# ans\n",
    "\n",
    "arr = [92, 23, 15, -20, 10]\n",
    "\n",
    "\n",
    "total_sum = sum(arr)\n",
    "\n",
    "\n",
    "print(\"The sum of the array values is:\", total_sum)\n",
    "\n"
   ]
  },
  {
   "cell_type": "code",
   "execution_count": 9,
   "id": "315c1c1e-fb01-466a-81d7-681266f3c3f6",
   "metadata": {},
   "outputs": [
    {
     "name": "stdout",
     "output_type": "stream",
     "text": [
      "153 is an Armstrong number.\n"
     ]
    }
   ],
   "source": [
    "''' Q.5 Given a number n. Print if it is an armstrong number or not.An armstrong number is a number if the sum\n",
    "of every digit in that number raised to the power of total digits in that number is equal to the number.'''\n",
    "\n",
    "# ans\n",
    "\n",
    "def is_armstrong_number(n):\n",
    "   \n",
    "    num_str = str(n)\n",
    "    num_digits = len(num_str)\n",
    "    \n",
    "  \n",
    "    sum_of_powers = sum(int(digit) ** num_digits for digit in num_str)\n",
    "    \n",
    "   \n",
    "    if sum_of_powers == n:\n",
    "        return True\n",
    "    else:\n",
    "        return False\n",
    "\n",
    "\n",
    "n = 153  \n",
    "if is_armstrong_number(n):\n",
    "    print(f\"{n} is an Armstrong number.\")\n",
    "else:\n",
    "    print(f\"{n} is not an Armstrong number.\")\n"
   ]
  },
  {
   "cell_type": "code",
   "execution_count": null,
   "id": "0dea80d4-b564-45aa-989b-c1a043589eeb",
   "metadata": {},
   "outputs": [],
   "source": []
  }
 ],
 "metadata": {
  "kernelspec": {
   "display_name": "Python 3 (ipykernel)",
   "language": "python",
   "name": "python3"
  },
  "language_info": {
   "codemirror_mode": {
    "name": "ipython",
    "version": 3
   },
   "file_extension": ".py",
   "mimetype": "text/x-python",
   "name": "python",
   "nbconvert_exporter": "python",
   "pygments_lexer": "ipython3",
   "version": "3.12.0"
  }
 },
 "nbformat": 4,
 "nbformat_minor": 5
}
